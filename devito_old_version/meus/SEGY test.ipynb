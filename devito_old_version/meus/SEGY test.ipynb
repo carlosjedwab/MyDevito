{
 "cells": [
  {
   "cell_type": "markdown",
   "metadata": {},
   "source": [
    "## True and smooth data\n",
    "\n",
    "We can generate shot records for the true and smoothed initial velocity models, since the difference between them will again form the basis of our imaging procedure. Modified!"
   ]
  },
  {
   "cell_type": "code",
   "execution_count": 1,
   "metadata": {},
   "outputs": [
    {
     "ename": "ModuleNotFoundError",
     "evalue": "No module named 'devito'",
     "output_type": "error",
     "traceback": [
      "\u001b[0;31m---------------------------------------------------------------------------\u001b[0m",
      "\u001b[0;31mModuleNotFoundError\u001b[0m                       Traceback (most recent call last)",
      "\u001b[0;32m<ipython-input-1-589aa2795a8a>\u001b[0m in \u001b[0;36m<module>\u001b[0;34m()\u001b[0m\n\u001b[1;32m      2\u001b[0m \u001b[0mget_ipython\u001b[0m\u001b[0;34m(\u001b[0m\u001b[0;34m)\u001b[0m\u001b[0;34m.\u001b[0m\u001b[0mmagic\u001b[0m\u001b[0;34m(\u001b[0m\u001b[0;34m'matplotlib inline'\u001b[0m\u001b[0;34m)\u001b[0m\u001b[0;34m\u001b[0m\u001b[0;34m\u001b[0m\u001b[0m\n\u001b[1;32m      3\u001b[0m \u001b[0;34m\u001b[0m\u001b[0m\n\u001b[0;32m----> 4\u001b[0;31m \u001b[0;32mfrom\u001b[0m \u001b[0mdevito\u001b[0m \u001b[0;32mimport\u001b[0m \u001b[0mconfiguration\u001b[0m\u001b[0;34m\u001b[0m\u001b[0;34m\u001b[0m\u001b[0m\n\u001b[0m\u001b[1;32m      5\u001b[0m \u001b[0mconfiguration\u001b[0m\u001b[0;34m[\u001b[0m\u001b[0;34m'log-level'\u001b[0m\u001b[0;34m]\u001b[0m \u001b[0;34m=\u001b[0m \u001b[0;34m'WARNING'\u001b[0m\u001b[0;34m\u001b[0m\u001b[0;34m\u001b[0m\u001b[0m\n",
      "\u001b[0;31mModuleNotFoundError\u001b[0m: No module named 'devito'"
     ]
    }
   ],
   "source": [
    "import numpy as np\n",
    "%matplotlib inline\n",
    "\n",
    "from devito import configuration\n",
    "configuration['log-level'] = 'WARNING'"
   ]
  },
  {
   "cell_type": "markdown",
   "metadata": {
    "collapsed": true
   },
   "source": [
    "# True and smooth velocity models\n",
    "\n",
    "We will use a very simple model domain, consisting of a circle within a 2D domain. We will again use the \"true\" model to generate our synthetic shot data and use a \"smooth\" model as our initial guess. In this case the smooth model is very smooth indeed - it is simply a constant background velocity without any features."
   ]
  },
  {
   "cell_type": "markdown",
   "metadata": {
    "collapsed": true
   },
   "source": [
    "# 03 - Full-Waveform Inversion (FWI)\n",
    "\n",
    "This notebook is the third in a series of tutorial highlighting various aspects of seismic inversion based on Devito operators. In this second example we aim to highlight the core ideas behind seismic inversion, where we create an image of the subsurface from field recorded data. This tutorial follows on the modelling tutorial and will reuse the modelling and velocity model.\n",
    "\n",
    "## Inversion requirement\n",
    "\n",
    "Seismic inversion relies on two known parameters:\n",
    "\n",
    "- **Field data** - or also called **recorded data**. This is a shot record corresponding to the true velocity model. In practice this data is acquired as described in the first tutorial. In order to simplify this tutorial we will fake field data by modelling it with the true velocity model.\n",
    "\n",
    "- **Initial velocity model**. This is a velocity model that has been obtained by processing the field data. This model is a rough and very smooth estimate of the velocity as an initial estimate for the inversion. This is a necessary requirement for any optimization (method).\n",
    "\n",
    "## Inversion computational setup\n",
    "\n",
    "In this tutorial, we will introduce the gradient operator. This operator corresponds to the imaging condition introduced in the previous tutorial with some minor modifications that are defined by the objective function (also referred to in the tutorial series as the *functional*, *f*) and its gradient, *g*. We will define these two terms in the tutorial too.\n",
    "\n",
    "## Notes on the operators\n",
    "\n",
    "As we have already described the creation of a forward modelling operator, we will only call a wrapper function here. This wrapper already contains all the necessary operators for seismic modeling, imaging and inversion. Operators introduced for the first time in this tutorial will be properly described."
   ]
  },
  {
   "cell_type": "markdown",
   "metadata": {},
   "source": [
    "## Computational considerations\n",
    "\n",
    "As we will see, FWI is computationally extremely demanding, even more than RTM. To keep this tutorial as lightwight as possible we therefore again use a very small demonstration model. We also define here a few parameters for the final example runs that can be changed to modify the overall runtime of the tutorial."
   ]
  },
  {
   "cell_type": "code",
   "execution_count": null,
   "metadata": {},
   "outputs": [],
   "source": [
    "# nshots = 9  # Number of shots to create gradient from\n",
    "# nreceivers = 101  # Number of receiver locations per shot \n",
    "fwi_iterations = 10  # Number of outer FWI iterations"
   ]
  },
  {
   "cell_type": "code",
   "execution_count": null,
   "metadata": {},
   "outputs": [],
   "source": [
    "import segyio\n",
    "import sys,io\n",
    "from examples.seismic import Model\n",
    "\n",
    "def ReadVelocityModel(segy,width,depth):\n",
    "    ''' Read a velocity model from disk in a segy format '''\n",
    "    FOUND = False\n",
    "    with segyio.open(segy, ignore_geometry=True) as f:\n",
    "        FOUND = True\n",
    "        # determine length of velocity model from file\n",
    "        nz = len(f.samples)\n",
    "        nx = len(f.trace)\n",
    "        vp = np.zeros(shape=(nz, nx))\n",
    "        index = 0\n",
    "        for trace in f.trace:\n",
    "            vp[:,index]=trace # convert to m-s?\n",
    "            index += 1\n",
    "        #vp = np.flipud(vp)\n",
    "        if not FOUND:\n",
    "            print('Exiting...segy file not found...')\n",
    "            sys.exit(1)\n",
    "    return vp, nz, nx\n",
    "\n",
    "def CreateDomainVectors(nz,nx,depth,width):\n",
    "    xvec = np.linspace(0, width, nx)\n",
    "    zvec = np.linspace(depth, 0, nz)\n",
    "    return zvec,xvec\n",
    "\n",
    "def CreateDomainMatrices(nz,nx,depth,width):\n",
    "    zvec,xvec = CreateDomainVectors(nz,nx,depth,width)\n",
    "    zg, xg = np.meshgrid(zvec, xvec, indexing='ij')\n",
    "    return zg,xg\n",
    "\n",
    "v,nx,nz =ReadVelocityModel(\"model.segy.segy\",100,100)\n",
    "\n",
    "shape = (1601, 401)\n",
    "spacing = (7.5, 7.5)\n",
    "origin = (0., 0.)\n",
    "nbl = 20\n",
    "\n",
    "testModel = Model(space_order=2, vp=v, origin=origin, shape=v.shape,\n",
    "                     dtype=np.float32, spacing=spacing, nbl=nbl)\n",
    "\n",
    "print(testModel.shape)"
   ]
  },
  {
   "cell_type": "code",
   "execution_count": null,
   "metadata": {},
   "outputs": [],
   "source": [
    "#NBVAL_IGNORE_OUTPUT\n",
    "from examples.seismic import demo_model, plot_velocity, plot_perturbation\n",
    "#from devito import smooth\n",
    "\n",
    "# Define true and initial model\n",
    "shape = (101, 101)  # Number of grid point (nx, nz)\n",
    "spacing = (10., 10.)  # Grid spacing in m. The domain size is now 12km by 3km\n",
    "origin = (200., 0.)  # Need origin to define relative source and receiver locations\n",
    "\n",
    "test2 = False\n",
    "\n",
    "preset = 'marmousi2d-isotropic'\n",
    "model = demo_model('marmousi2d-isotropic', data_path='data/',\n",
    "                          grid=None, nbpml=20, test2=test2)\n",
    "\n",
    "if preset == 'marmousi2d-isotropic':\n",
    "    def create_model(grid=None):\n",
    "        return demo_model('marmousi2d-isotropic', data_path='data/',\n",
    "                          grid=grid, nbpml=20, test2=test2)\n",
    "    filter_sigma = (10, 10) #6,6\n",
    "    nshots = 16  # Need good covergae in shots, one every two grid points\n",
    "    nreceivers = 32  # One recevier every grid point\n",
    "    t0 = 0.\n",
    "    tn = 350  # Simulation last 3.5 second (3500 ms)\n",
    "    f0 = 0.025  # Source peak frequency is 25Hz (0.025 kHz)\n",
    "\n",
    "#NBVAL_IGNORE_OUTPUT\n",
    "from examples.seismic import plot_velocity, plot_perturbation\n",
    "from scipy import ndimage\n",
    "\n",
    "# Create true model from a preset\n",
    "model = create_model()\n",
    "\n",
    "# Create initial model and smooth the boundaries\n",
    "model0 = create_model(grid=model.grid)\n",
    "model0.vp = ndimage.gaussian_filter(model0.vp.data, sigma=filter_sigma, order=0)\n",
    "\n",
    "model1 = create_model(grid=model.grid)\n",
    "model1.vp = ndimage.gaussian_filter(model0.vp.data, sigma=filter_sigma, order=0)\n",
    "\n",
    "\n",
    "print(model.shape)\n",
    "plot_velocity(model)\n",
    "plot_velocity(model0)\n",
    "plot_velocity(testModel)\n",
    "#smooth(model0,model0)\n",
    "#plot_velocity(model0)\n",
    "#plot_perturbation(model0, model)"
   ]
  },
  {
   "cell_type": "markdown",
   "metadata": {},
   "source": [
    "## Acquisition geometry\n",
    "\n",
    "The sources and receivers are located on the upper side of the model. This allows to record most of the information necessary for inversion."
   ]
  },
  {
   "cell_type": "code",
   "execution_count": null,
   "metadata": {},
   "outputs": [],
   "source": [
    "#NBVAL_IGNORE_OUTPUT\n",
    "# Define acquisition geometry: source\n",
    "from examples.seismic import AcquisitionGeometry\n",
    "\n",
    "t0 = 0.\n",
    "tn = 3500. \n",
    "f0 = 0.025\n",
    "# First, position source centrally in all dimensions, then set depth\n",
    "src_coordinates = np.empty((1, 2))\n",
    "src_coordinates[0, :] = np.array(model.domain_size) * 0.01\n",
    "src_coordinates[0, 0] = 3750.  # Depth is 20m\n",
    "\n",
    "\n",
    "# Define acquisition geometry: receivers\n",
    "\n",
    "# Initialize receivers for synthetic and imaging data\n",
    "rec_coordinates = np.empty((nreceivers, 2))\n",
    "rec_coordinates[:, 0] = np.linspace(0., model.domain_size[0], num=nreceivers)\n",
    "rec_coordinates[:, 1] = 30.\n",
    "\n",
    "# Geometry\n",
    "\n",
    "geometry = AcquisitionGeometry(model, rec_coordinates, src_coordinates, t0, tn, f0=f0, src_type='Ricker')\n",
    "# We can plot the time signature to see the wavelet\n",
    "geometry.src.show()"
   ]
  },
  {
   "cell_type": "code",
   "execution_count": null,
   "metadata": {},
   "outputs": [],
   "source": [
    "# Plot acquisition geometry\n",
    "plot_velocity(model, source=geometry.src_positions,\n",
    "              receiver=geometry.rec_positions[::4, :]) "
   ]
  },
  {
   "cell_type": "code",
   "execution_count": null,
   "metadata": {},
   "outputs": [],
   "source": [
    "# Compute synthetic data with forward operator \n",
    "from examples.seismic.acoustic import AcousticWaveSolver\n",
    "\n",
    "solver = AcousticWaveSolver(model, geometry, space_order=4)\n",
    "true_d, _, _ = solver.forward(vp=model.vp)"
   ]
  },
  {
   "cell_type": "code",
   "execution_count": null,
   "metadata": {},
   "outputs": [],
   "source": [
    "# Compute initial data with forward operator \n",
    "smooth_d, _, _ = solver.forward(vp=model0.vp)"
   ]
  },
  {
   "cell_type": "code",
   "execution_count": null,
   "metadata": {},
   "outputs": [],
   "source": [
    "#NBVAL_IGNORE_OUTPUT\n",
    "from examples.seismic import plot_shotrecord\n",
    "\n",
    "# Plot shot record for true and smooth velocity model and the difference\n",
    "plot_shotrecord(true_d.data, model, t0, tn)\n",
    "plot_shotrecord(smooth_d.data, model, t0, tn)\n",
    "plot_shotrecord(smooth_d.data - true_d.data, model, t0, tn)"
   ]
  },
  {
   "cell_type": "markdown",
   "metadata": {},
   "source": [
    "# Full-Waveform Inversion\n",
    "\n",
    "\n",
    "## Formulation\n",
    "\n",
    "Full-waveform inversion (FWI) aims to invert an accurate model of the discrete wave velocity, $\\mathbf{c}$, or equivalently the square slowness of the wave, $\\mathbf{m} = \\frac{1}{\\mathbf{c}^2}$, from a given set of measurements of the pressure wavefield $\\mathbf{u}$. This can be expressed as the following optimization problem [1, 2]:\n",
    "\n",
    "\\begin{aligned}\n",
    "\t\\mathop{\\hbox{minimize}}_{\\mathbf{m}} \\Phi_s(\\mathbf{m})&=\\frac{1}{2}\\left\\lVert\\mathbf{P}_r\n",
    "\t\\mathbf{u} - \\mathbf{d}\\right\\rVert_2^2 \\\\\n",
    "\t\\mathbf{u} &= \\mathbf{A}(\\mathbf{m})^{-1} \\mathbf{P}_s^T \\mathbf{q}_s, \n",
    "\\end{aligned}\n",
    "\n",
    "where $\\mathbf{P}_r$ is the sampling operator at the receiver locations, $\\mathbf{P}_s^T$ is the injection operator at the source locations, $\\mathbf{A}(\\mathbf{m})$ is the operator representing the discretized wave equation matrix, $\\mathbf{u}$ is the discrete synthetic pressure wavefield, $\\mathbf{q}_s$ is the corresponding pressure source and $\\mathbf{d}$ is the measured data. It is worth noting that $\\mathbf{m}$ is the unknown in this formulation and that multiple implementations of the wave equation operator $\\mathbf{A}(\\mathbf{m})$ are possible. \n",
    "\n",
    "We have already defined a concrete solver scheme for $\\mathbf{A}(\\mathbf{m})$ in the first tutorial, including appropriate implementations of the sampling operator $\\mathbf{P}_r$ and source term $\\mathbf{q}_s$.\n",
    "\n",
    "To solve this optimization problem using a gradient-based method, we use the\n",
    "adjoint-state method to evaluate the gradient $\\nabla\\Phi_s(\\mathbf{m})$:\n",
    "\n",
    "\\begin{align}\n",
    " \\nabla\\Phi_s(\\mathbf{m})=\\sum_{\\mathbf{t} =1}^{n_t}\\mathbf{u}[\\mathbf{t}] \\mathbf{v}_{tt}[\\mathbf{t}] =\\mathbf{J}^T\\delta\\mathbf{d}_s,\n",
    "\\end{align}\n",
    "\n",
    "where $n_t$ is the number of computational time steps, $\\delta\\mathbf{d}_s = \\left(\\mathbf{P}_r \\mathbf{u} - \\mathbf{d} \\right)$ is the data residual (difference between the measured data and the modelled data), $\\mathbf{J}$ is the Jacobian operator and $\\mathbf{v}_{tt}$ is the second-order time derivative of the adjoint wavefield solving:\n",
    "\n",
    "\\begin{align}\n",
    " \\mathbf{A}^T(\\mathbf{m}) \\mathbf{v} = \\mathbf{P}_r^T \\delta\\mathbf{d}.\n",
    "\\end{align}\n",
    "\n",
    "We see that the gradient of the FWI function is the previously defined imaging condition with an extra second-order time derivative. We will therefore reuse the operators defined previously inside a Devito wrapper."
   ]
  },
  {
   "cell_type": "markdown",
   "metadata": {},
   "source": [
    "## FWI gradient operator\n",
    "\n",
    "To compute a single gradient $\\nabla\\Phi_s(\\mathbf{m})$ in our optimization workflow we again use `solver.forward` to compute the entire forward wavefield $\\mathbf{u}$ and a similar pre-defined gradient operator to compute the adjoint wavefield `v`. The gradient operator provided by our `solver` utility also computes the correlation between the wavefields, allowing us to encode a similar procedure to the previous imaging tutorial as our gradient calculation:\n",
    "\n",
    "- Simulate the forward wavefield with the background velocity model to get the synthetic data and save the full wavefield $\\mathbf{u}$\n",
    "- Compute the data residual\n",
    "- Back-propagate the data residual and compute on the fly the gradient contribution at each time step. \n",
    "\n",
    "This procedure is applied to multiple source positions and summed to obtain a gradient image of the subsurface. We again prepare the source locations for each shot and visualize them, before defining a single gradient computation over a number of shots as a single function."
   ]
  },
  {
   "cell_type": "code",
   "execution_count": null,
   "metadata": {},
   "outputs": [],
   "source": [
    "#NBVAL_IGNORE_OUTPUT\n",
    "\n",
    "# Prepare the varying source locations sources\n",
    "source_locations = np.empty((nshots, 2), dtype=np.float32)\n",
    "source_locations[:, 1] = 30.\n",
    "source_locations[:, 0] = np.linspace(0., model.domain_size[0], num=nshots)\n",
    "\n",
    "plot_velocity(model, source=source_locations)"
   ]
  },
  {
   "cell_type": "code",
   "execution_count": null,
   "metadata": {},
   "outputs": [],
   "source": [
    "# Create FWI gradient kernel \n",
    "from devito import Function, clear_cache, TimeFunction\n",
    "from examples.seismic import Receiver\n",
    "\n",
    "import scipy\n",
    "def fwi_gradient(vp_in):    \n",
    "    # Create symbols to hold the gradient and residual\n",
    "    grad = Function(name=\"grad\", grid=model.grid)\n",
    "    residual = Receiver(name='rec', grid=model.grid,\n",
    "                        time_range=geometry.time_axis, \n",
    "                        coordinates=geometry.rec_positions)\n",
    "    objective = 0.\n",
    "    \n",
    "    # Creat forward wavefield to reuse to avoid memory overload\n",
    "    u0 = TimeFunction(name='u', grid=model.grid, time_order=2, space_order=4,\n",
    "                      save=geometry.nt)\n",
    "    for i in range(nshots):\n",
    "        # Important: We force previous wavefields to be destroyed,\n",
    "        # so that we may reuse the memory.\n",
    "        clear_cache()\n",
    "\n",
    "        # Update source location\n",
    "        geometry.src_positions[0, :] = source_locations[i, :]\n",
    "        \n",
    "        # Generate synthetic data from true model\n",
    "        true_d, _, _ = solver.forward(vp=model.vp)\n",
    "        \n",
    "        # Compute smooth data and full forward wavefield u0\n",
    "        u0.data.fill(0.)\n",
    "        smooth_d, _, _ = solver.forward(vp=vp_in, save=True, u=u0)\n",
    "        \n",
    "        # Compute gradient from data residual and update objective function \n",
    "        residual.data[:] = smooth_d.data[:] - true_d.data[:]\n",
    "        \n",
    "        objective += .5*np.linalg.norm(residual.data.flatten())**2\n",
    "        solver.gradient(rec=residual, u=u0, vp=vp_in, grad=grad)\n",
    "    \n",
    "    return objective, -grad.data"
   ]
  },
  {
   "cell_type": "markdown",
   "metadata": {},
   "source": [
    "Having defined our FWI gradient procedure we can compute the initial iteration from our starting model. This allows us to visualize the gradient alongside the model perturbation and the effect of the gradient update on the model."
   ]
  },
  {
   "cell_type": "code",
   "execution_count": null,
   "metadata": {},
   "outputs": [],
   "source": [
    "#NBVAL_IGNORE_OUTPUT\n",
    "\n",
    "# Compute gradient of initial model\n",
    "ff, update = fwi_gradient(model0.vp)\n",
    "print('Objective value is %f ' % ff)"
   ]
  },
  {
   "cell_type": "code",
   "execution_count": null,
   "metadata": {},
   "outputs": [],
   "source": [
    "#NBVAL_IGNORE_OUTPUT\n",
    "from examples.seismic import plot_image\n",
    "\n",
    "# Plot the FWI gradient\n",
    "plot_image(update, vmin=-1e4, vmax=1e4, cmap=\"jet\")\n",
    "\n",
    "# Plot the difference between the true and initial model.\n",
    "# This is not known in practice as only the initial model is provided.\n",
    "plot_image(model0.vp.data - model.vp.data, vmin=-1e-1, vmax=1e-1, cmap=\"jet\")\n",
    "\n",
    "# Show what the update does to the model\n",
    "alpha = .5 / np.abs(update).max()\n",
    "plot_image(model0.vp.data - alpha*update, vmin=1.0, vmax=5.0, cmap=\"jet\")"
   ]
  },
  {
   "cell_type": "markdown",
   "metadata": {},
   "source": [
    "We see that the gradient and the true perturbation have the same sign, therefore, with an appropriate scaling factor, we will update the model in the correct direction."
   ]
  },
  {
   "cell_type": "code",
   "execution_count": null,
   "metadata": {},
   "outputs": [],
   "source": [
    "# Define bounding box constraints on the solution.\n",
    "def apply_box_constraint(vp):\n",
    "    # Maximum possible 'realistic' velocity is 1.0 km/sec\n",
    "    # Minimum possible 'realistic' velocity is 5 km/sec\n",
    "    return np.clip(vp, 1.0, 5.0)"
   ]
  },
  {
   "cell_type": "code",
   "execution_count": null,
   "metadata": {},
   "outputs": [],
   "source": [
    "#NBVAL_SKIP\n",
    "# from scipy.optimize import line_search"
   ]
  },
  {
   "cell_type": "code",
   "execution_count": null,
   "metadata": {},
   "outputs": [],
   "source": [
    "# fwi_gradient(model0.vp)[0]"
   ]
  },
  {
   "cell_type": "code",
   "execution_count": null,
   "metadata": {},
   "outputs": [],
   "source": [
    "# Run FWI with gradient descent\n",
    "history = np.zeros((fwi_iterations, 1))\n",
    "for i in range(0, fwi_iterations):\n",
    "    # Compute the functional value and gradient for the current\n",
    "    # model estimate\n",
    "    phi, direction = fwi_gradient(model0.vp)\n",
    "    \n",
    "    # Store the history of the functional values\n",
    "    history[i] = phi\n",
    "    \n",
    "    # Artificial Step length for gradient descent\n",
    "    # In practice this would be replaced by a Linesearch (Wolfe, ...)\n",
    "    # that would guarantee functional decrease Phi(m-alpha g) <= epsilon Phi(m)\n",
    "    # where epsilon is a minimum decrease constant\n",
    "    alpha = .01 / np.abs(direction).max()\n",
    "    \n",
    "    # Update the model estimate and enforce minimum/maximum values\n",
    "    model0.vp = apply_box_constraint(model0.vp.data - alpha * direction)\n",
    "    \n",
    "    # Log the progress made\n",
    "    print('Objective value is %f at iteration %d' % (phi, i+1))"
   ]
  },
  {
   "cell_type": "code",
   "execution_count": null,
   "metadata": {},
   "outputs": [],
   "source": [
    "#NBVAL_IGNORE_OUTPUT\n",
    "\n",
    "# Plot inverted velocity model\n",
    "plot_velocity(model)\n",
    "plot_velocity(model1)\n",
    "plot_velocity(model0)\n",
    "plot_perturbation(model0, model1)"
   ]
  },
  {
   "cell_type": "code",
   "execution_count": null,
   "metadata": {},
   "outputs": [],
   "source": [
    "#NBVAL_SKIP\n",
    "import matplotlib.pyplot as plt\n",
    "\n",
    "# Plot objective function decrease\n",
    "plt.figure()\n",
    "plt.loglog(history)\n",
    "plt.xlabel('Iteration number')\n",
    "plt.ylabel('Misift value Phi')\n",
    "plt.title('Convergence')\n",
    "plt.show()"
   ]
  },
  {
   "cell_type": "markdown",
   "metadata": {},
   "source": [
    "## References\n",
    "\n",
    "[1] _Virieux, J. and Operto, S.: An overview of full-waveform inversion in exploration geophysics, GEOPHYSICS, 74, WCC1–WCC26, doi:10.1190/1.3238367, http://library.seg.org/doi/abs/10.1190/1.3238367, 2009._\n",
    "\n",
    "[2] _Haber, E., Chung, M., and Herrmann, F. J.: An effective method for parameter estimation with PDE constraints with multiple right hand sides, SIAM Journal on Optimization, 22, http://dx.doi.org/10.1137/11081126X, 2012._"
   ]
  },
  {
   "cell_type": "markdown",
   "metadata": {},
   "source": [
    "<sup>This notebook is part of the tutorial \"Optimised Symbolic Finite Difference Computation with Devito\" presented at the Intel® HPC Developer Conference 2017.</sup>"
   ]
  },
  {
   "cell_type": "code",
   "execution_count": null,
   "metadata": {},
   "outputs": [],
   "source": []
  }
 ],
 "metadata": {
  "kernelspec": {
   "display_name": "Python 3",
   "language": "python",
   "name": "python3"
  },
  "language_info": {
   "codemirror_mode": {
    "name": "ipython",
    "version": 3
   },
   "file_extension": ".py",
   "mimetype": "text/x-python",
   "name": "python",
   "nbconvert_exporter": "python",
   "pygments_lexer": "ipython3",
   "version": "3.6.9"
  },
  "widgets": {
   "state": {},
   "version": "1.1.2"
  }
 },
 "nbformat": 4,
 "nbformat_minor": 1
}
